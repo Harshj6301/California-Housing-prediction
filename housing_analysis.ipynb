{
 "cells": [
  {
   "cell_type": "markdown",
   "id": "bd23300f-0162-4a55-b121-1fed928743d0",
   "metadata": {},
   "source": [
    "### Importing the libraries"
   ]
  },
  {
   "cell_type": "code",
   "execution_count": 1,
   "id": "5c405e92-3bb3-47c4-ad27-ed89110082f7",
   "metadata": {},
   "outputs": [],
   "source": [
    "import pandas as pd\n",
    "import numpy as np\n",
    "import seaborn as sns\n",
    "import matplotlib.pyplot as plt\n",
    "import warnings\n",
    "warnings.filterwarnings('ignore')"
   ]
  },
  {
   "cell_type": "markdown",
   "id": "ccf58ee4-2769-4f74-9eb4-e59bbdd1cea9",
   "metadata": {},
   "source": [
    "### Importing the datasets"
   ]
  },
  {
   "cell_type": "code",
   "execution_count": 2,
   "id": "93598740-99e9-49ed-94aa-d4f51d2c4c9b",
   "metadata": {},
   "outputs": [
    {
     "data": {
      "text/plain": [
       "(20640, 10)"
      ]
     },
     "execution_count": 2,
     "metadata": {},
     "output_type": "execute_result"
    }
   ],
   "source": [
    "df_housing = pd.read_csv('housing.csv')\n",
    "df_housing.shape"
   ]
  },
  {
   "cell_type": "code",
   "execution_count": 3,
   "id": "7a0624c3-5320-46f9-acc1-1d8a1fa2c8fd",
   "metadata": {},
   "outputs": [
    {
     "data": {
      "text/plain": [
       "pandas.core.frame.DataFrame"
      ]
     },
     "execution_count": 3,
     "metadata": {},
     "output_type": "execute_result"
    }
   ],
   "source": [
    "type(df_housing)"
   ]
  },
  {
   "cell_type": "code",
   "execution_count": 4,
   "id": "f55dc828-a8ac-403f-8c91-d6f31ee4efae",
   "metadata": {},
   "outputs": [
    {
     "data": {
      "text/html": [
       "<div>\n",
       "<style scoped>\n",
       "    .dataframe tbody tr th:only-of-type {\n",
       "        vertical-align: middle;\n",
       "    }\n",
       "\n",
       "    .dataframe tbody tr th {\n",
       "        vertical-align: top;\n",
       "    }\n",
       "\n",
       "    .dataframe thead th {\n",
       "        text-align: right;\n",
       "    }\n",
       "</style>\n",
       "<table border=\"1\" class=\"dataframe\">\n",
       "  <thead>\n",
       "    <tr style=\"text-align: right;\">\n",
       "      <th></th>\n",
       "      <th>longitude</th>\n",
       "      <th>latitude</th>\n",
       "      <th>housing_median_age</th>\n",
       "      <th>total_rooms</th>\n",
       "      <th>total_bedrooms</th>\n",
       "      <th>population</th>\n",
       "      <th>households</th>\n",
       "      <th>median_income</th>\n",
       "      <th>ocean_proximity</th>\n",
       "      <th>median_house_value</th>\n",
       "    </tr>\n",
       "  </thead>\n",
       "  <tbody>\n",
       "    <tr>\n",
       "      <th>0</th>\n",
       "      <td>-122.23</td>\n",
       "      <td>37.88</td>\n",
       "      <td>41</td>\n",
       "      <td>880</td>\n",
       "      <td>129.0</td>\n",
       "      <td>322</td>\n",
       "      <td>126</td>\n",
       "      <td>8.3252</td>\n",
       "      <td>NEAR BAY</td>\n",
       "      <td>452600</td>\n",
       "    </tr>\n",
       "    <tr>\n",
       "      <th>1</th>\n",
       "      <td>-122.22</td>\n",
       "      <td>37.86</td>\n",
       "      <td>21</td>\n",
       "      <td>7099</td>\n",
       "      <td>1106.0</td>\n",
       "      <td>2401</td>\n",
       "      <td>1138</td>\n",
       "      <td>8.3014</td>\n",
       "      <td>NEAR BAY</td>\n",
       "      <td>358500</td>\n",
       "    </tr>\n",
       "    <tr>\n",
       "      <th>2</th>\n",
       "      <td>-122.24</td>\n",
       "      <td>37.85</td>\n",
       "      <td>52</td>\n",
       "      <td>1467</td>\n",
       "      <td>190.0</td>\n",
       "      <td>496</td>\n",
       "      <td>177</td>\n",
       "      <td>7.2574</td>\n",
       "      <td>NEAR BAY</td>\n",
       "      <td>352100</td>\n",
       "    </tr>\n",
       "    <tr>\n",
       "      <th>3</th>\n",
       "      <td>-122.25</td>\n",
       "      <td>37.85</td>\n",
       "      <td>52</td>\n",
       "      <td>1274</td>\n",
       "      <td>235.0</td>\n",
       "      <td>558</td>\n",
       "      <td>219</td>\n",
       "      <td>5.6431</td>\n",
       "      <td>NEAR BAY</td>\n",
       "      <td>341300</td>\n",
       "    </tr>\n",
       "    <tr>\n",
       "      <th>4</th>\n",
       "      <td>-122.25</td>\n",
       "      <td>37.85</td>\n",
       "      <td>52</td>\n",
       "      <td>1627</td>\n",
       "      <td>280.0</td>\n",
       "      <td>565</td>\n",
       "      <td>259</td>\n",
       "      <td>3.8462</td>\n",
       "      <td>NEAR BAY</td>\n",
       "      <td>342200</td>\n",
       "    </tr>\n",
       "  </tbody>\n",
       "</table>\n",
       "</div>"
      ],
      "text/plain": [
       "   longitude  latitude  housing_median_age  total_rooms  total_bedrooms  \\\n",
       "0    -122.23     37.88                  41          880           129.0   \n",
       "1    -122.22     37.86                  21         7099          1106.0   \n",
       "2    -122.24     37.85                  52         1467           190.0   \n",
       "3    -122.25     37.85                  52         1274           235.0   \n",
       "4    -122.25     37.85                  52         1627           280.0   \n",
       "\n",
       "   population  households  median_income ocean_proximity  median_house_value  \n",
       "0         322         126         8.3252        NEAR BAY              452600  \n",
       "1        2401        1138         8.3014        NEAR BAY              358500  \n",
       "2         496         177         7.2574        NEAR BAY              352100  \n",
       "3         558         219         5.6431        NEAR BAY              341300  \n",
       "4         565         259         3.8462        NEAR BAY              342200  "
      ]
     },
     "execution_count": 4,
     "metadata": {},
     "output_type": "execute_result"
    }
   ],
   "source": [
    "df_housing.head()"
   ]
  },
  {
   "cell_type": "code",
   "execution_count": 5,
   "id": "713d9808-cc7d-4a15-8ece-39fbce6eb9a0",
   "metadata": {},
   "outputs": [
    {
     "data": {
      "text/plain": [
       "longitude               0\n",
       "latitude                0\n",
       "housing_median_age      0\n",
       "total_rooms             0\n",
       "total_bedrooms        207\n",
       "population              0\n",
       "households              0\n",
       "median_income           0\n",
       "ocean_proximity         0\n",
       "median_house_value      0\n",
       "dtype: int64"
      ]
     },
     "execution_count": 5,
     "metadata": {},
     "output_type": "execute_result"
    }
   ],
   "source": [
    "df_housing.isna().sum()"
   ]
  },
  {
   "cell_type": "code",
   "execution_count": 6,
   "id": "7d7f9602-205b-4ba4-a9b2-51596fdfdb64",
   "metadata": {},
   "outputs": [
    {
     "name": "stdout",
     "output_type": "stream",
     "text": [
      "<class 'pandas.core.frame.DataFrame'>\n",
      "RangeIndex: 20640 entries, 0 to 20639\n",
      "Data columns (total 10 columns):\n",
      " #   Column              Non-Null Count  Dtype  \n",
      "---  ------              --------------  -----  \n",
      " 0   longitude           20640 non-null  float64\n",
      " 1   latitude            20640 non-null  float64\n",
      " 2   housing_median_age  20640 non-null  int64  \n",
      " 3   total_rooms         20640 non-null  int64  \n",
      " 4   total_bedrooms      20433 non-null  float64\n",
      " 5   population          20640 non-null  int64  \n",
      " 6   households          20640 non-null  int64  \n",
      " 7   median_income       20640 non-null  float64\n",
      " 8   ocean_proximity     20640 non-null  object \n",
      " 9   median_house_value  20640 non-null  int64  \n",
      "dtypes: float64(4), int64(5), object(1)\n",
      "memory usage: 1.6+ MB\n"
     ]
    }
   ],
   "source": [
    "df_housing.info()"
   ]
  },
  {
   "cell_type": "code",
   "execution_count": 7,
   "id": "8ddb6142-33df-4aaf-8741-253f8571f067",
   "metadata": {},
   "outputs": [
    {
     "data": {
      "text/html": [
       "<div>\n",
       "<style scoped>\n",
       "    .dataframe tbody tr th:only-of-type {\n",
       "        vertical-align: middle;\n",
       "    }\n",
       "\n",
       "    .dataframe tbody tr th {\n",
       "        vertical-align: top;\n",
       "    }\n",
       "\n",
       "    .dataframe thead th {\n",
       "        text-align: right;\n",
       "    }\n",
       "</style>\n",
       "<table border=\"1\" class=\"dataframe\">\n",
       "  <thead>\n",
       "    <tr style=\"text-align: right;\">\n",
       "      <th></th>\n",
       "      <th>count</th>\n",
       "      <th>mean</th>\n",
       "      <th>std</th>\n",
       "      <th>min</th>\n",
       "      <th>25%</th>\n",
       "      <th>50%</th>\n",
       "      <th>75%</th>\n",
       "      <th>max</th>\n",
       "    </tr>\n",
       "  </thead>\n",
       "  <tbody>\n",
       "    <tr>\n",
       "      <th>longitude</th>\n",
       "      <td>20640.0</td>\n",
       "      <td>-119.569704</td>\n",
       "      <td>2.003532</td>\n",
       "      <td>-124.3500</td>\n",
       "      <td>-121.8000</td>\n",
       "      <td>-118.4900</td>\n",
       "      <td>-118.01000</td>\n",
       "      <td>-114.3100</td>\n",
       "    </tr>\n",
       "    <tr>\n",
       "      <th>latitude</th>\n",
       "      <td>20640.0</td>\n",
       "      <td>35.631861</td>\n",
       "      <td>2.135952</td>\n",
       "      <td>32.5400</td>\n",
       "      <td>33.9300</td>\n",
       "      <td>34.2600</td>\n",
       "      <td>37.71000</td>\n",
       "      <td>41.9500</td>\n",
       "    </tr>\n",
       "    <tr>\n",
       "      <th>housing_median_age</th>\n",
       "      <td>20640.0</td>\n",
       "      <td>28.639486</td>\n",
       "      <td>12.585558</td>\n",
       "      <td>1.0000</td>\n",
       "      <td>18.0000</td>\n",
       "      <td>29.0000</td>\n",
       "      <td>37.00000</td>\n",
       "      <td>52.0000</td>\n",
       "    </tr>\n",
       "    <tr>\n",
       "      <th>total_rooms</th>\n",
       "      <td>20640.0</td>\n",
       "      <td>2635.763081</td>\n",
       "      <td>2181.615252</td>\n",
       "      <td>2.0000</td>\n",
       "      <td>1447.7500</td>\n",
       "      <td>2127.0000</td>\n",
       "      <td>3148.00000</td>\n",
       "      <td>39320.0000</td>\n",
       "    </tr>\n",
       "    <tr>\n",
       "      <th>total_bedrooms</th>\n",
       "      <td>20433.0</td>\n",
       "      <td>537.870553</td>\n",
       "      <td>421.385070</td>\n",
       "      <td>1.0000</td>\n",
       "      <td>296.0000</td>\n",
       "      <td>435.0000</td>\n",
       "      <td>647.00000</td>\n",
       "      <td>6445.0000</td>\n",
       "    </tr>\n",
       "    <tr>\n",
       "      <th>population</th>\n",
       "      <td>20640.0</td>\n",
       "      <td>1425.476744</td>\n",
       "      <td>1132.462122</td>\n",
       "      <td>3.0000</td>\n",
       "      <td>787.0000</td>\n",
       "      <td>1166.0000</td>\n",
       "      <td>1725.00000</td>\n",
       "      <td>35682.0000</td>\n",
       "    </tr>\n",
       "    <tr>\n",
       "      <th>households</th>\n",
       "      <td>20640.0</td>\n",
       "      <td>499.539680</td>\n",
       "      <td>382.329753</td>\n",
       "      <td>1.0000</td>\n",
       "      <td>280.0000</td>\n",
       "      <td>409.0000</td>\n",
       "      <td>605.00000</td>\n",
       "      <td>6082.0000</td>\n",
       "    </tr>\n",
       "    <tr>\n",
       "      <th>median_income</th>\n",
       "      <td>20640.0</td>\n",
       "      <td>3.870671</td>\n",
       "      <td>1.899822</td>\n",
       "      <td>0.4999</td>\n",
       "      <td>2.5634</td>\n",
       "      <td>3.5348</td>\n",
       "      <td>4.74325</td>\n",
       "      <td>15.0001</td>\n",
       "    </tr>\n",
       "    <tr>\n",
       "      <th>median_house_value</th>\n",
       "      <td>20640.0</td>\n",
       "      <td>206855.816909</td>\n",
       "      <td>115395.615874</td>\n",
       "      <td>14999.0000</td>\n",
       "      <td>119600.0000</td>\n",
       "      <td>179700.0000</td>\n",
       "      <td>264725.00000</td>\n",
       "      <td>500001.0000</td>\n",
       "    </tr>\n",
       "  </tbody>\n",
       "</table>\n",
       "</div>"
      ],
      "text/plain": [
       "                      count           mean            std         min  \\\n",
       "longitude           20640.0    -119.569704       2.003532   -124.3500   \n",
       "latitude            20640.0      35.631861       2.135952     32.5400   \n",
       "housing_median_age  20640.0      28.639486      12.585558      1.0000   \n",
       "total_rooms         20640.0    2635.763081    2181.615252      2.0000   \n",
       "total_bedrooms      20433.0     537.870553     421.385070      1.0000   \n",
       "population          20640.0    1425.476744    1132.462122      3.0000   \n",
       "households          20640.0     499.539680     382.329753      1.0000   \n",
       "median_income       20640.0       3.870671       1.899822      0.4999   \n",
       "median_house_value  20640.0  206855.816909  115395.615874  14999.0000   \n",
       "\n",
       "                            25%          50%           75%          max  \n",
       "longitude             -121.8000    -118.4900    -118.01000    -114.3100  \n",
       "latitude                33.9300      34.2600      37.71000      41.9500  \n",
       "housing_median_age      18.0000      29.0000      37.00000      52.0000  \n",
       "total_rooms           1447.7500    2127.0000    3148.00000   39320.0000  \n",
       "total_bedrooms         296.0000     435.0000     647.00000    6445.0000  \n",
       "population             787.0000    1166.0000    1725.00000   35682.0000  \n",
       "households             280.0000     409.0000     605.00000    6082.0000  \n",
       "median_income            2.5634       3.5348       4.74325      15.0001  \n",
       "median_house_value  119600.0000  179700.0000  264725.00000  500001.0000  "
      ]
     },
     "execution_count": 7,
     "metadata": {},
     "output_type": "execute_result"
    }
   ],
   "source": [
    "df_housing.describe().T"
   ]
  },
  {
   "cell_type": "markdown",
   "id": "e2cde1b2-6db0-4408-ac94-e0fd567ef1a5",
   "metadata": {},
   "source": [
    "#### Fixing missing values, taking mean of 'total_bedrooms'"
   ]
  },
  {
   "cell_type": "code",
   "execution_count": 8,
   "id": "963d018d-c5ad-4b3c-898d-40fc3a999c57",
   "metadata": {},
   "outputs": [],
   "source": [
    "df_housing['total_bedrooms'].fillna(435,inplace=True)"
   ]
  },
  {
   "cell_type": "code",
   "execution_count": 9,
   "id": "1f443358-4502-4829-bf77-bf4f9b475a0a",
   "metadata": {},
   "outputs": [
    {
     "data": {
      "text/plain": [
       "longitude             0\n",
       "latitude              0\n",
       "housing_median_age    0\n",
       "total_rooms           0\n",
       "total_bedrooms        0\n",
       "population            0\n",
       "households            0\n",
       "median_income         0\n",
       "ocean_proximity       0\n",
       "median_house_value    0\n",
       "dtype: int64"
      ]
     },
     "execution_count": 9,
     "metadata": {},
     "output_type": "execute_result"
    }
   ],
   "source": [
    "df_housing.isna().sum()"
   ]
  },
  {
   "cell_type": "markdown",
   "id": "3452b6f7-83b6-422c-83ce-7a684e091f0f",
   "metadata": {},
   "source": [
    "### Encoding categorical columns"
   ]
  },
  {
   "cell_type": "code",
   "execution_count": 10,
   "id": "0b0693e0-ec88-4e5d-ae54-dde4541ceec8",
   "metadata": {},
   "outputs": [],
   "source": [
    "from sklearn.preprocessing import LabelEncoder"
   ]
  },
  {
   "cell_type": "code",
   "execution_count": 11,
   "id": "1a5eb4b2-79fe-4940-b3ea-5e596c5af2e6",
   "metadata": {},
   "outputs": [],
   "source": [
    "le = LabelEncoder()"
   ]
  },
  {
   "cell_type": "code",
   "execution_count": 12,
   "id": "83d049f1-0c6d-49dd-a407-a38a4b861eef",
   "metadata": {},
   "outputs": [],
   "source": [
    "df_housing['ocean_proximity'] = le.fit_transform(df_housing['ocean_proximity'])"
   ]
  },
  {
   "cell_type": "code",
   "execution_count": 13,
   "id": "63d93a97-aabb-487c-ac01-70b509fa01b3",
   "metadata": {},
   "outputs": [
    {
     "data": {
      "text/html": [
       "<div>\n",
       "<style scoped>\n",
       "    .dataframe tbody tr th:only-of-type {\n",
       "        vertical-align: middle;\n",
       "    }\n",
       "\n",
       "    .dataframe tbody tr th {\n",
       "        vertical-align: top;\n",
       "    }\n",
       "\n",
       "    .dataframe thead th {\n",
       "        text-align: right;\n",
       "    }\n",
       "</style>\n",
       "<table border=\"1\" class=\"dataframe\">\n",
       "  <thead>\n",
       "    <tr style=\"text-align: right;\">\n",
       "      <th></th>\n",
       "      <th>longitude</th>\n",
       "      <th>latitude</th>\n",
       "      <th>housing_median_age</th>\n",
       "      <th>total_rooms</th>\n",
       "      <th>total_bedrooms</th>\n",
       "      <th>population</th>\n",
       "      <th>households</th>\n",
       "      <th>median_income</th>\n",
       "      <th>ocean_proximity</th>\n",
       "      <th>median_house_value</th>\n",
       "    </tr>\n",
       "  </thead>\n",
       "  <tbody>\n",
       "    <tr>\n",
       "      <th>0</th>\n",
       "      <td>-122.23</td>\n",
       "      <td>37.88</td>\n",
       "      <td>41</td>\n",
       "      <td>880</td>\n",
       "      <td>129.0</td>\n",
       "      <td>322</td>\n",
       "      <td>126</td>\n",
       "      <td>8.3252</td>\n",
       "      <td>3</td>\n",
       "      <td>452600</td>\n",
       "    </tr>\n",
       "    <tr>\n",
       "      <th>1</th>\n",
       "      <td>-122.22</td>\n",
       "      <td>37.86</td>\n",
       "      <td>21</td>\n",
       "      <td>7099</td>\n",
       "      <td>1106.0</td>\n",
       "      <td>2401</td>\n",
       "      <td>1138</td>\n",
       "      <td>8.3014</td>\n",
       "      <td>3</td>\n",
       "      <td>358500</td>\n",
       "    </tr>\n",
       "    <tr>\n",
       "      <th>2</th>\n",
       "      <td>-122.24</td>\n",
       "      <td>37.85</td>\n",
       "      <td>52</td>\n",
       "      <td>1467</td>\n",
       "      <td>190.0</td>\n",
       "      <td>496</td>\n",
       "      <td>177</td>\n",
       "      <td>7.2574</td>\n",
       "      <td>3</td>\n",
       "      <td>352100</td>\n",
       "    </tr>\n",
       "    <tr>\n",
       "      <th>3</th>\n",
       "      <td>-122.25</td>\n",
       "      <td>37.85</td>\n",
       "      <td>52</td>\n",
       "      <td>1274</td>\n",
       "      <td>235.0</td>\n",
       "      <td>558</td>\n",
       "      <td>219</td>\n",
       "      <td>5.6431</td>\n",
       "      <td>3</td>\n",
       "      <td>341300</td>\n",
       "    </tr>\n",
       "    <tr>\n",
       "      <th>4</th>\n",
       "      <td>-122.25</td>\n",
       "      <td>37.85</td>\n",
       "      <td>52</td>\n",
       "      <td>1627</td>\n",
       "      <td>280.0</td>\n",
       "      <td>565</td>\n",
       "      <td>259</td>\n",
       "      <td>3.8462</td>\n",
       "      <td>3</td>\n",
       "      <td>342200</td>\n",
       "    </tr>\n",
       "  </tbody>\n",
       "</table>\n",
       "</div>"
      ],
      "text/plain": [
       "   longitude  latitude  housing_median_age  total_rooms  total_bedrooms  \\\n",
       "0    -122.23     37.88                  41          880           129.0   \n",
       "1    -122.22     37.86                  21         7099          1106.0   \n",
       "2    -122.24     37.85                  52         1467           190.0   \n",
       "3    -122.25     37.85                  52         1274           235.0   \n",
       "4    -122.25     37.85                  52         1627           280.0   \n",
       "\n",
       "   population  households  median_income  ocean_proximity  median_house_value  \n",
       "0         322         126         8.3252                3              452600  \n",
       "1        2401        1138         8.3014                3              358500  \n",
       "2         496         177         7.2574                3              352100  \n",
       "3         558         219         5.6431                3              341300  \n",
       "4         565         259         3.8462                3              342200  "
      ]
     },
     "execution_count": 13,
     "metadata": {},
     "output_type": "execute_result"
    }
   ],
   "source": [
    "df_housing.head()"
   ]
  },
  {
   "cell_type": "markdown",
   "id": "65c49e9a-55d9-48d8-8268-6a9a0a85e21c",
   "metadata": {},
   "source": [
    "### Extracting X and y features"
   ]
  },
  {
   "cell_type": "markdown",
   "id": "22abce4c-7d75-4fef-936c-a6e86b293150",
   "metadata": {},
   "source": [
    "X values"
   ]
  },
  {
   "cell_type": "code",
   "execution_count": 14,
   "id": "b6dfbb0c-23f2-4c0a-9295-b060ca792e18",
   "metadata": {},
   "outputs": [
    {
     "data": {
      "text/plain": [
       "array([[-1.2223e+02,  3.7880e+01,  4.1000e+01, ...,  1.2600e+02,\n",
       "         8.3252e+00,  3.0000e+00],\n",
       "       [-1.2222e+02,  3.7860e+01,  2.1000e+01, ...,  1.1380e+03,\n",
       "         8.3014e+00,  3.0000e+00],\n",
       "       [-1.2224e+02,  3.7850e+01,  5.2000e+01, ...,  1.7700e+02,\n",
       "         7.2574e+00,  3.0000e+00],\n",
       "       ...,\n",
       "       [-1.2122e+02,  3.9430e+01,  1.7000e+01, ...,  4.3300e+02,\n",
       "         1.7000e+00,  1.0000e+00],\n",
       "       [-1.2132e+02,  3.9430e+01,  1.8000e+01, ...,  3.4900e+02,\n",
       "         1.8672e+00,  1.0000e+00],\n",
       "       [-1.2124e+02,  3.9370e+01,  1.6000e+01, ...,  5.3000e+02,\n",
       "         2.3886e+00,  1.0000e+00]])"
      ]
     },
     "execution_count": 14,
     "metadata": {},
     "output_type": "execute_result"
    }
   ],
   "source": [
    "X = df_housing.iloc[:,:9].values\n",
    "X"
   ]
  },
  {
   "cell_type": "markdown",
   "id": "8af6fa39-1ca6-4a70-9950-687a7652c47d",
   "metadata": {},
   "source": [
    "y values"
   ]
  },
  {
   "cell_type": "code",
   "execution_count": 15,
   "id": "a5363534-6652-4dc8-a2b8-9d067cb995fa",
   "metadata": {},
   "outputs": [
    {
     "data": {
      "text/plain": [
       "array([[452600],\n",
       "       [358500],\n",
       "       [352100],\n",
       "       ...,\n",
       "       [ 92300],\n",
       "       [ 84700],\n",
       "       [ 89400]], dtype=int64)"
      ]
     },
     "execution_count": 15,
     "metadata": {},
     "output_type": "execute_result"
    }
   ],
   "source": [
    "y = df_housing.iloc[:,-1].values\n",
    "y = y.reshape(len(y),1)\n",
    "y"
   ]
  },
  {
   "cell_type": "markdown",
   "id": "a0baa88d-e148-41e7-ab89-7877116ac1de",
   "metadata": {},
   "source": [
    "### Splitting the dataset"
   ]
  },
  {
   "cell_type": "code",
   "execution_count": 16,
   "id": "0f15a872-b116-4342-8eb0-d83d35402f3e",
   "metadata": {},
   "outputs": [],
   "source": [
    "from sklearn.model_selection import train_test_split"
   ]
  },
  {
   "cell_type": "code",
   "execution_count": 17,
   "id": "c1e1c3ab-f84d-4a99-86ac-fb8e0d0031e6",
   "metadata": {},
   "outputs": [],
   "source": [
    "X_train, X_test, y_train, y_test = train_test_split(X,y, test_size = 0.2)"
   ]
  },
  {
   "cell_type": "code",
   "execution_count": 18,
   "id": "e157a11f-24a4-4955-bad3-a03d26fe3bc1",
   "metadata": {},
   "outputs": [
    {
     "name": "stdout",
     "output_type": "stream",
     "text": [
      "X_train:  (16512, 9)\n",
      "X_test:  (4128, 9)\n",
      "y_train:  (16512, 1)\n",
      "y_test:  (4128, 1)\n"
     ]
    }
   ],
   "source": [
    "print('X_train: ', X_train.shape)\n",
    "print('X_test: ', X_test.shape)\n",
    "print('y_train: ', y_train.shape)\n",
    "print('y_test: ', y_test.shape)"
   ]
  },
  {
   "cell_type": "markdown",
   "id": "19075f08-4c22-4f55-a192-9562f097e920",
   "metadata": {},
   "source": [
    "### Standardizing the data"
   ]
  },
  {
   "cell_type": "code",
   "execution_count": 19,
   "id": "c9aa8806-00d5-4f7e-bfdb-dea60abcd54e",
   "metadata": {},
   "outputs": [],
   "source": [
    "from sklearn.preprocessing import StandardScaler"
   ]
  },
  {
   "cell_type": "code",
   "execution_count": 20,
   "id": "ed33d72c-ae04-416f-bf6b-4cf8d5761448",
   "metadata": {},
   "outputs": [],
   "source": [
    "scaler = StandardScaler()"
   ]
  },
  {
   "cell_type": "markdown",
   "id": "e8e3602d-8ef3-47c0-9371-0fe3cf71521c",
   "metadata": {},
   "source": [
    "### Linear Regression"
   ]
  },
  {
   "cell_type": "code",
   "execution_count": 21,
   "id": "a7703a75-aac0-490d-8229-fa9e80a75496",
   "metadata": {},
   "outputs": [],
   "source": [
    "from sklearn.linear_model import LinearRegression"
   ]
  },
  {
   "cell_type": "code",
   "execution_count": 22,
   "id": "c0acbb53-08f4-422f-8c90-3ac31b950997",
   "metadata": {},
   "outputs": [],
   "source": [
    "linreg = LinearRegression()"
   ]
  },
  {
   "cell_type": "code",
   "execution_count": 23,
   "id": "9959f117-f9de-4213-8fa3-3301ccfdc310",
   "metadata": {},
   "outputs": [
    {
     "data": {
      "text/plain": [
       "LinearRegression()"
      ]
     },
     "execution_count": 23,
     "metadata": {},
     "output_type": "execute_result"
    }
   ],
   "source": [
    "linreg.fit(X_train,y_train)"
   ]
  },
  {
   "cell_type": "code",
   "execution_count": 24,
   "id": "f44b0f89-eb1b-429c-a5a3-67e736835d31",
   "metadata": {},
   "outputs": [],
   "source": [
    "y_pred_linreg = linreg.predict(X_test)"
   ]
  },
  {
   "cell_type": "code",
   "execution_count": 25,
   "id": "7d705c73-b6fa-4994-a1a7-724879ae867c",
   "metadata": {},
   "outputs": [],
   "source": [
    "from sklearn.metrics import mean_squared_error, r2_score"
   ]
  },
  {
   "cell_type": "code",
   "execution_count": 26,
   "id": "df4424ad-f3db-4899-a3b0-b69aeee36423",
   "metadata": {},
   "outputs": [
    {
     "data": {
      "text/plain": [
       "0.6447964741905086"
      ]
     },
     "execution_count": 26,
     "metadata": {},
     "output_type": "execute_result"
    }
   ],
   "source": [
    "r2_score(y_pred=y_pred_linreg, y_true = y_test)"
   ]
  },
  {
   "cell_type": "code",
   "execution_count": 27,
   "id": "bf136b1c-8c19-45fd-88f0-f1d3c20a735f",
   "metadata": {},
   "outputs": [
    {
     "data": {
      "text/plain": [
       "4789410823.132916"
      ]
     },
     "execution_count": 27,
     "metadata": {},
     "output_type": "execute_result"
    }
   ],
   "source": [
    "mean_squared_error(y_pred=y_pred_linreg, y_true = y_test)"
   ]
  },
  {
   "cell_type": "code",
   "execution_count": 28,
   "id": "38bf3ebe-d1da-4396-b4b9-039255db8c60",
   "metadata": {},
   "outputs": [
    {
     "data": {
      "image/png": "[encoded data removed]",
      "text/plain": [
       "<Figure size 432x288 with 1 Axes>"
      ]
     },
     "metadata": {
      "needs_background": "light"
     },
     "output_type": "display_data"
    }
   ],
   "source": [
    "sns.distplot(y_test, color='red', label='Actual')\n",
    "sns.distplot(y_pred_linreg, color='blue',label='Predicted')\n",
    "plt.legend()\n",
    "plt.show()"
   ]
  },
  {
   "cell_type": "markdown",
   "id": "06ba64d4-5f9b-4612-98a4-4523924de850",
   "metadata": {},
   "source": [
    "### Decision Tree Regression"
   ]
  },
  {
   "cell_type": "code",
   "execution_count": 29,
   "id": "02677cc0-4a7d-4fcd-bcdb-e72323cbadcf",
   "metadata": {},
   "outputs": [],
   "source": [
    "from sklearn.tree import DecisionTreeRegressor"
   ]
  },
  {
   "cell_type": "code",
   "execution_count": 30,
   "id": "7c15f784-d3a5-48a8-9790-6b397b255f6d",
   "metadata": {},
   "outputs": [],
   "source": [
    "dtregressor = DecisionTreeRegressor()"
   ]
  },
  {
   "cell_type": "code",
   "execution_count": 31,
   "id": "971e38dc-62e0-41d6-8ca5-e9f04ae20dc0",
   "metadata": {},
   "outputs": [
    {
     "data": {
      "text/plain": [
       "DecisionTreeRegressor()"
      ]
     },
     "execution_count": 31,
     "metadata": {},
     "output_type": "execute_result"
    }
   ],
   "source": [
    "dtregressor.fit(X=X_train, y=y_train)"
   ]
  },
  {
   "cell_type": "code",
   "execution_count": 32,
   "id": "00d08546-1eb3-4540-995f-655eaa223fb9",
   "metadata": {},
   "outputs": [],
   "source": [
    "y_pred_dtr = dtregressor.predict(X_test)"
   ]
  },
  {
   "cell_type": "code",
   "execution_count": 33,
   "id": "4e770f77-1a25-4709-8ee8-ff8c3d82c667",
   "metadata": {},
   "outputs": [
    {
     "name": "stdout",
     "output_type": "stream",
     "text": [
      "Mean squared error:  4467816213.653101\n",
      "r2 score:  0.668647328374246\n"
     ]
    }
   ],
   "source": [
    "print('Mean squared error: ',mean_squared_error(y_pred=y_pred_dtr, y_true = y_test))\n",
    "print('r2 score: ',r2_score(y_pred=y_pred_dtr, y_true = y_test))"
   ]
  },
  {
   "cell_type": "code",
   "execution_count": 34,
   "id": "728ddf9b-d8ce-4315-9d32-ba2cb72ffdd3",
   "metadata": {},
   "outputs": [
    {
     "data": {
      "image/png": "[encoded data removed]",
      "text/plain": [
       "<Figure size 432x288 with 1 Axes>"
      ]
     },
     "metadata": {
      "needs_background": "light"
     },
     "output_type": "display_data"
    }
   ],
   "source": [
    "sns.distplot(y_test, color='red', label='Actual')\n",
    "sns.distplot(y_pred_dtr, color='blue', label='Predicted')\n",
    "plt.legend()\n",
    "plt.show()"
   ]
  },
  {
   "cell_type": "markdown",
   "id": "c82c7959-633c-4f4a-b440-ee5fdf57eabf",
   "metadata": {},
   "source": [
    "### Random Forest Regression"
   ]
  },
  {
   "cell_type": "code",
   "execution_count": 35,
   "id": "c3229766-d80b-45ca-b48f-875b5e46b890",
   "metadata": {},
   "outputs": [],
   "source": [
    "from sklearn.ensemble import RandomForestRegressor"
   ]
  },
  {
   "cell_type": "code",
   "execution_count": 36,
   "id": "a036b0ea-276e-421f-9561-e84ffc7ea1c7",
   "metadata": {},
   "outputs": [],
   "source": [
    "rfrregressor = RandomForestRegressor(n_estimators = 100)"
   ]
  },
  {
   "cell_type": "code",
   "execution_count": 37,
   "id": "414dc259-df17-4cd4-ac34-6e9431201586",
   "metadata": {},
   "outputs": [
    {
     "data": {
      "text/plain": [
       "RandomForestRegressor()"
      ]
     },
     "execution_count": 37,
     "metadata": {},
     "output_type": "execute_result"
    }
   ],
   "source": [
    "rfrregressor.fit(X_train, y_train)"
   ]
  },
  {
   "cell_type": "code",
   "execution_count": 38,
   "id": "e5f6bda6-43e7-4fbb-ae92-446068d72481",
   "metadata": {},
   "outputs": [],
   "source": [
    "y_pred_rfr = rfrregressor.predict(X_test)"
   ]
  },
  {
   "cell_type": "code",
   "execution_count": 39,
   "id": "8637315e-cd4f-4ecd-89ff-28730d8cc0ae",
   "metadata": {},
   "outputs": [
    {
     "name": "stdout",
     "output_type": "stream",
     "text": [
      "Mean squared error:  2347473573.173897\n",
      "r2 score:  0.8259011555432749\n"
     ]
    }
   ],
   "source": [
    "print('Mean squared error: ',mean_squared_error(y_pred=y_pred_rfr, y_true = y_test))\n",
    "print('r2 score: ',r2_score(y_pred=y_pred_rfr, y_true = y_test))"
   ]
  },
  {
   "cell_type": "code",
   "execution_count": 40,
   "id": "acda24f5-a771-4794-812a-56ce6e3a87b5",
   "metadata": {},
   "outputs": [
    {
     "data": {
      "image/png": "[encoded data removed]",
      "text/plain": [
       "<Figure size 432x288 with 1 Axes>"
      ]
     },
     "metadata": {
      "needs_background": "light"
     },
     "output_type": "display_data"
    }
   ],
   "source": [
    "sns.distplot(y_test, color='red',label='Actual')\n",
    "sns.distplot(y_pred_rfr, color='blue',label='Predicted')\n",
    "plt.legend()\n",
    "plt.show()"
   ]
  },
  {
   "cell_type": "markdown",
   "id": "e916bb8b-66f2-452a-ada4-945193c141bc",
   "metadata": {},
   "source": [
    "### Performing Linear Regression with just one variable, i.e medium_income"
   ]
  },
  {
   "cell_type": "code",
   "execution_count": 41,
   "id": "58b4b080-f9b9-42f3-84d5-0aa78c3f1131",
   "metadata": {},
   "outputs": [
    {
     "data": {
      "text/plain": [
       "array([[8.3252],\n",
       "       [8.3014],\n",
       "       [7.2574],\n",
       "       ...,\n",
       "       [1.7   ],\n",
       "       [1.8672],\n",
       "       [2.3886]])"
      ]
     },
     "execution_count": 41,
     "metadata": {},
     "output_type": "execute_result"
    }
   ],
   "source": [
    "X = df_housing['median_income'].values\n",
    "X = X.reshape(len(X),1)\n",
    "X"
   ]
  },
  {
   "cell_type": "code",
   "execution_count": 42,
   "id": "23b60ca1-1c2b-428d-8fa5-cc134edd565a",
   "metadata": {},
   "outputs": [
    {
     "data": {
      "text/plain": [
       "array([[452600],\n",
       "       [358500],\n",
       "       [352100],\n",
       "       ...,\n",
       "       [ 92300],\n",
       "       [ 84700],\n",
       "       [ 89400]], dtype=int64)"
      ]
     },
     "execution_count": 42,
     "metadata": {},
     "output_type": "execute_result"
    }
   ],
   "source": [
    "y"
   ]
  },
  {
   "cell_type": "code",
   "execution_count": 43,
   "id": "a1c84e1b-fedc-433f-a6bf-8af9c5572635",
   "metadata": {},
   "outputs": [],
   "source": [
    "X_train, X_test, y_train, y_test = train_test_split(X,y, test_size = 0.2)"
   ]
  },
  {
   "cell_type": "code",
   "execution_count": 44,
   "id": "9051255f-cb67-4667-87c5-14bf474c47b9",
   "metadata": {},
   "outputs": [
    {
     "data": {
      "text/plain": [
       "array([[ 0.82768492],\n",
       "       [ 2.87190381],\n",
       "       [ 1.26749612],\n",
       "       ...,\n",
       "       [-0.10497185],\n",
       "       [ 0.40851866],\n",
       "       [-0.52345345]])"
      ]
     },
     "execution_count": 44,
     "metadata": {},
     "output_type": "execute_result"
    }
   ],
   "source": [
    "scaler.fit_transform(X_train, y_train)"
   ]
  },
  {
   "cell_type": "code",
   "execution_count": 45,
   "id": "1ba0d0fb-597a-48d3-8e45-7fb65ec4da30",
   "metadata": {},
   "outputs": [
    {
     "name": "stdout",
     "output_type": "stream",
     "text": [
      "X_train:  (16512, 1)\n",
      "X_test:  (4128, 1)\n",
      "y_train:  (16512, 1)\n",
      "y_test:  (4128, 1)\n"
     ]
    }
   ],
   "source": [
    "print('X_train: ', X_train.shape)\n",
    "print('X_test: ', X_test.shape)\n",
    "print('y_train: ', y_train.shape)\n",
    "print('y_test: ', y_test.shape)"
   ]
  },
  {
   "cell_type": "code",
   "execution_count": 46,
   "id": "da8ac56a-0897-4a29-bc3f-ef5dfde6c914",
   "metadata": {},
   "outputs": [
    {
     "data": {
      "text/plain": [
       "LinearRegression()"
      ]
     },
     "execution_count": 46,
     "metadata": {},
     "output_type": "execute_result"
    }
   ],
   "source": [
    "linreg.fit(X_train,y_train)"
   ]
  },
  {
   "cell_type": "code",
   "execution_count": 47,
   "id": "a8adb1ce-d3ec-4c18-95ce-bcfb814df479",
   "metadata": {},
   "outputs": [],
   "source": [
    "y_pred_onevarlr = linreg.predict(X_test)"
   ]
  },
  {
   "cell_type": "code",
   "execution_count": 48,
   "id": "f10a16ba-1afd-47eb-941b-b5d24adb948f",
   "metadata": {},
   "outputs": [
    {
     "name": "stdout",
     "output_type": "stream",
     "text": [
      "Mean squared error:  7017515880.464929\n",
      "r2 score:  0.47242677142474976\n"
     ]
    }
   ],
   "source": [
    "print('Mean squared error: ',mean_squared_error(y_pred=y_pred_onevarlr, y_true = y_test))\n",
    "print('r2 score: ',r2_score(y_pred=y_pred_onevarlr, y_true = y_test))"
   ]
  },
  {
   "cell_type": "code",
   "execution_count": 51,
   "id": "06ff40cc-9b83-474b-b9b0-eddf7d844e48",
   "metadata": {},
   "outputs": [
    {
     "data": {
      "image/png": "[encoded data removed]",
      "text/plain": [
       "<Figure size 432x288 with 1 Axes>"
      ]
     },
     "metadata": {
      "needs_background": "light"
     },
     "output_type": "display_data"
    }
   ],
   "source": [
    "sns.distplot(y_test, color='red', label='Actual')\n",
    "sns.distplot(y_pred_onevarlr, color='blue',label='Predicted')\n",
    "plt.legend()\n",
    "plt.show()"
   ]
  },
  {
   "cell_type": "code",
   "execution_count": null,
   "id": "7413a2d0-015d-4e20-a07a-4a0abd5cbd00",
   "metadata": {},
   "outputs": [],
   "source": []
  }
 ],
 "metadata": {
  "kernelspec": {
   "display_name": "Python 3 (ipykernel)",
   "language": "python",
   "name": "python3"
  },
  "language_info": {
   "codemirror_mode": {
    "name": "ipython",
    "version": 3
   },
   "file_extension": ".py",
   "mimetype": "text/x-python",
   "name": "python",
   "nbconvert_exporter": "python",
   "pygments_lexer": "ipython3",
   "version": "3.9.7"
  }
 },
 "nbformat": 4,
 "nbformat_minor": 5
}
